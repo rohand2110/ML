{
  "nbformat": 4,
  "nbformat_minor": 0,
  "metadata": {
    "colab": {
      "name": "SWproject.ipynb",
      "provenance": [],
      "authorship_tag": "ABX9TyOB/pGizrGCKFlaWH7Jokf3",
      "include_colab_link": true
    },
    "kernelspec": {
      "name": "python3",
      "display_name": "Python 3"
    },
    "language_info": {
      "name": "python"
    }
  },
  "cells": [
    {
      "cell_type": "markdown",
      "metadata": {
        "id": "view-in-github",
        "colab_type": "text"
      },
      "source": [
        "<a href=\"https://colab.research.google.com/github/rohand2110/ML/blob/master/SWproject.ipynb\" target=\"_parent\"><img src=\"https://colab.research.google.com/assets/colab-badge.svg\" alt=\"Open In Colab\"/></a>"
      ]
    },
    {
      "cell_type": "markdown",
      "metadata": {
        "id": "XT8OgoSJwpm1"
      },
      "source": [
        "**Software Challenge:** Given a large number of binary files, write a program that finds the longest strand of bytes that is identical between two or more files"
      ]
    },
    {
      "cell_type": "markdown",
      "metadata": {
        "id": "y72dAOoSw4us"
      },
      "source": [
        "Mounting Drive with sample files"
      ]
    },
    {
      "cell_type": "code",
      "metadata": {
        "id": "wnMhJDqG1Kru",
        "colab": {
          "base_uri": "https://localhost:8080/"
        },
        "outputId": "c2ed3604-fb8e-491b-e4bc-459879710542"
      },
      "source": [
        "import pandas as pd\n",
        "from google.colab import drive\n",
        "drive.mount('/content/drive')\n",
        "\n",
        "import os\n",
        "os.chdir('/content/drive/My Drive/Eluvio Challenge - Core Engineering/')\n",
        "\n",
        "\n"
      ],
      "execution_count": null,
      "outputs": [
        {
          "output_type": "stream",
          "text": [
            "Drive already mounted at /content/drive; to attempt to forcibly remount, call drive.mount(\"/content/drive\", force_remount=True).\n"
          ],
          "name": "stdout"
        }
      ]
    },
    {
      "cell_type": "markdown",
      "metadata": {
        "id": "QfoBwSYLxM_D"
      },
      "source": [
        "creating a list with all the bytes from the different samples"
      ]
    },
    {
      "cell_type": "code",
      "metadata": {
        "id": "erChTg55lfZx"
      },
      "source": [
        "a =[]\n",
        "\n",
        "for i in range(1,11):\n",
        "  filename = \"sample.\"+str(i)\n",
        "  file = open(filename, \"rb\")\n",
        "  byte = file. read(1)\n",
        "  s =\"\"\n",
        "  while byte: \n",
        "    byte = file. read(1)\n",
        "    s+=str(byte)\n",
        "  file. close()\n",
        "  a.append(s)"
      ],
      "execution_count": null,
      "outputs": []
    },
    {
      "cell_type": "markdown",
      "metadata": {
        "id": "NfnNMKuJxTiU"
      },
      "source": [
        "Installing suffix trees and using the longest common substring method to identify the longest substring"
      ]
    },
    {
      "cell_type": "code",
      "metadata": {
        "id": "3VoZL9MLtNd0",
        "colab": {
          "base_uri": "https://localhost:8080/"
        },
        "outputId": "7fa13349-0a67-43ac-e338-3d242a832abf"
      },
      "source": [
        "!pip install suffix-trees\n",
        "\n",
        "from suffix_trees import STree\n",
        "\n",
        "st = STree.STree(a)\n",
        "max_len = len(st.lcs())\n"
      ],
      "execution_count": null,
      "outputs": [
        {
          "output_type": "stream",
          "text": [
            "Requirement already satisfied: suffix-trees in /usr/local/lib/python3.7/dist-packages (0.3.0)\n"
          ],
          "name": "stdout"
        }
      ]
    },
    {
      "cell_type": "markdown",
      "metadata": {
        "id": "18Q0LOiWxew-"
      },
      "source": [
        "Iterating between all combinations of two between files. The maximum possible length would be between two files."
      ]
    },
    {
      "cell_type": "code",
      "metadata": {
        "id": "PzOVp0bk2TXF"
      },
      "source": [
        "import itertools\n",
        "arr = list(itertools.combinations(range(0,4), 2))\n",
        "indices = [range(0,10)]\n",
        "for z in arr:\n",
        "  r = STree.STree([a[z[0]],a[z[1]]])\n",
        "  l = len(r.lcs())\n",
        "  if l > max_len:\n",
        "    indices = [(z[0],z[1])]\n",
        "    max_len = l\n",
        "    lcs_String = r.lcs()\n",
        "\n",
        "  elif l == max_len:\n",
        "    indices.append((z[0],z[1]))\n",
        "  \n"
      ],
      "execution_count": null,
      "outputs": []
    },
    {
      "cell_type": "markdown",
      "metadata": {
        "id": "RAS51Dypx7CM"
      },
      "source": [
        "Printing out relevant information about the longest common strand"
      ]
    },
    {
      "cell_type": "code",
      "metadata": {
        "colab": {
          "base_uri": "https://localhost:8080/"
        },
        "id": "AkK9F2S_ShBs",
        "outputId": "305ab09a-0a52-42b4-c022-03d0bc71dd0c"
      },
      "source": [
        "print(\"Length of largest strand is \",max_len)\n",
        "for index in indices:\n",
        "  print(\"The file names which have the longest strand are sample.\"+str(index[0]+1)+\" and sample.\"+str(index[1]+1))\n",
        "  r2 = STree.STree([a[index[0]],a[index[1]]])\n",
        "  p = STree.STree(a[index[0]])\n",
        "  q = STree.STree(a[index[1]]) \n",
        "  print(\"Offsets for the files are \"+str(p.find(r2.lcs()))+\" and \"+str(q.find(r2.lcs()))+\" respectively.\")\n"
      ],
      "execution_count": null,
      "outputs": [
        {
          "output_type": "stream",
          "text": [
            "Length of largest strand is  162500\n",
            "The file names which have the longest strand are sample.2 and sample.3\n",
            "Offsets for the files are 18168 and 102357 respectively.\n"
          ],
          "name": "stdout"
        }
      ]
    }
  ]
}